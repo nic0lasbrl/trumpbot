{
 "cells": [
  {
   "cell_type": "code",
   "execution_count": 2,
   "metadata": {
    "collapsed": true
   },
   "outputs": [
    {
     "name": "stderr",
     "output_type": "stream",
     "text": [
      "Using TensorFlow backend.\n"
     ]
    },
    {
     "name": "stdout",
     "output_type": "stream",
     "text": [
      "____________________________________________________________________________________________________\nLayer (type)                     Output Shape          Param #     Connected to                     \n====================================================================================================\ngru_1 (GRU)                      (None, 100, 256)      304896      gru_input_1[0][0]                \n____________________________________________________________________________________________________\ndropout_1 (Dropout)              (None, 100, 256)      0           gru_1[0][0]                      \n____________________________________________________________________________________________________\ngru_2 (GRU)                      (None, 256)           393984      dropout_1[0][0]                  \n____________________________________________________________________________________________________\ndropout_2 (Dropout)              (None, 256)           0           gru_2[0][0]                      \n____________________________________________________________________________________________________\ndense_1 (Dense)                  (None, 140)           35980       dropout_2[0][0]                  \n____________________________________________________________________________________________________\nactivation_1 (Activation)        (None, 140)           0           dense_1[0][0]                    \n====================================================================================================\nTotal params: 734,860\nTrainable params: 734,860\nNon-trainable params: 0\n____________________________________________________________________________________________________\n"
     ]
    }
   ],
   "source": [
    "import pickle\n",
    "from keras.models import load_model\n",
    "\n",
    "# model number to use in order to do the predictions\n",
    "model_num = 18\n",
    "\n",
    "meta_data_dic = pickle.load(open(\"./data/models/meta_data_dic.p\", \"rb\"))\n",
    "model = load_model(\"./data/models/model-\" + str(model_num) + \".h5\")\n",
    "\n",
    "seq_len = meta_data_dic[\"seq_len\"]\n",
    "chars = meta_data_dic[\"chars\"]\n",
    "char_indices = meta_data_dic[\"char_indices\"]\n",
    "indices_char = meta_data_dic[\"indices_char\"]\n",
    "max_len = meta_data_dic[\"max_len\"]\n",
    "padd_char_st = meta_data_dic[\"padd_char_st\"]\n",
    "padd_char_end = meta_data_dic[\"padd_char_end\"]\n",
    "\n",
    "model.summary()"
   ]
  },
  {
   "cell_type": "code",
   "execution_count": 17,
   "metadata": {},
   "outputs": [
    {
     "name": "stdout",
     "output_type": "stream",
     "text": [
      "Hello America! Jef See, New Hampshire - the people voters to #MakeAmericaGreatAgain tomorrow.\nhttps://t.co/WS5qT2fzz4Û_\n"
     ]
    }
   ],
   "source": [
    "import numpy as np\n",
    "from utils import random_next_char\n",
    "\n",
    "# sentence start that the bot will complete\n",
    "sentence = \"Hello America!\"\n",
    "\n",
    "x = np.zeros((seq_len, len(chars)))\n",
    "x[:-len(sentence), char_indices[padd_char_st]] = 1\n",
    "for i, char in enumerate(sentence[::-1]):\n",
    "    x[-i-1, char_indices[char]] = 1\n",
    "for i in range(max_len-seq_len-1):\n",
    "    probs = model.predict(x.reshape((1, x.shape[0], len(chars))))\n",
    "    next_char, pos = random_next_char(probs, indices_char, verbose=False)\n",
    "    sentence += next_char\n",
    "    x = np.concatenate((x[-seq_len + 1:, :], np.zeros((1, len(chars)))), axis=0)\n",
    "    x[-1, pos] = 1\n",
    "sentence = sentence.replace(padd_char_end, \"\")\n",
    "print(sentence)"
   ]
  }
 ],
 "metadata": {
  "kernelspec": {
   "display_name": "Python 2",
   "language": "python",
   "name": "python2"
  },
  "language_info": {
   "codemirror_mode": {
    "name": "ipython",
    "version": 2.0
   },
   "file_extension": ".py",
   "mimetype": "text/x-python",
   "name": "python",
   "nbconvert_exporter": "python",
   "pygments_lexer": "ipython2",
   "version": "2.7.6"
  }
 },
 "nbformat": 4,
 "nbformat_minor": 0
}